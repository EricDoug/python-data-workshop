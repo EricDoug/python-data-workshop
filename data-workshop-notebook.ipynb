{
 "cells": [
  {
   "cell_type": "code",
   "execution_count": null,
   "metadata": {
    "collapsed": true
   },
   "outputs": [],
   "source": [
    "%matplotlib inline"
   ]
  },
  {
   "cell_type": "markdown",
   "metadata": {},
   "source": [
    "# Fetching the data"
   ]
  },
  {
   "cell_type": "markdown",
   "metadata": {},
   "source": [
    "### A simple HTTP request"
   ]
  },
  {
   "cell_type": "code",
   "execution_count": 93,
   "metadata": {
    "collapsed": false
   },
   "outputs": [
    {
     "name": "stdout",
     "output_type": "stream",
     "text": [
      "<!doctype html>\n",
      "<html>\n",
      "<head>\n",
      "    <title>Example Domain</title>\n",
      "\n",
      "    <meta charset=\"utf-8\" />\n",
      "    <meta http-equiv=\"Content-type\" content=\"text/html; charset=utf-8\" />\n",
      "    <meta name=\"viewport\" content=\"width=device-width, initial-scale=1\" />\n",
      "    <style type=\"text/css\">\n",
      "    body {\n",
      "        background-color: #f0f0f2;\n",
      "        margin: 0;\n",
      "        padding: 0;\n",
      "        font-family: \"Open Sans\", \"Helvetica Neue\", Helvetica, Arial, sans-serif;\n",
      "        \n",
      "    }\n",
      "    div {\n",
      "        width: 600px;\n",
      "        margin: 5em auto;\n",
      "        padding: 50px;\n",
      "        background-color: #fff;\n",
      "        border-radius: 1em;\n",
      "    }\n",
      "    a:link, a:visited {\n",
      "        color: #38488f;\n",
      "        text-decoration: none;\n",
      "    }\n",
      "    @media (max-width: 700px) {\n",
      "        body {\n",
      "            background-color: #fff;\n",
      "        }\n",
      "        div {\n",
      "            width: auto;\n",
      "            margin: 0 auto;\n",
      "            border-radius: 0;\n",
      "            padding: 1em;\n",
      "        }\n",
      "    }\n",
      "    </style>    \n",
      "</head>\n",
      "\n",
      "<body>\n",
      "<div>\n",
      "    <h1>Example Domain</h1>\n",
      "    <p>This domain is established to be used for illustrative examples in documents. You may use this\n",
      "    domain in examples without prior coordination or asking for permission.</p>\n",
      "    <p><a href=\"http://www.iana.org/domains/example\">More information...</a></p>\n",
      "</div>\n",
      "</body>\n",
      "</html>\n",
      "\n"
     ]
    }
   ],
   "source": [
    "import requests\n",
    "\n",
    "print requests.get(\"http://example.com\").text"
   ]
  },
  {
   "cell_type": "markdown",
   "metadata": {},
   "source": [
    "### Communicating with APIs"
   ]
  },
  {
   "cell_type": "code",
   "execution_count": 94,
   "metadata": {
    "collapsed": false
   },
   "outputs": [
    {
     "data": {
      "text/plain": [
       "[u'C4.5',\n",
       " u'Machine Learning',\n",
       " u'Machine Learning',\n",
       " u'Machine Learning',\n",
       " u'A First Course in Machine Learning',\n",
       " u'Machine Learning',\n",
       " u'Elements of Machine Learning',\n",
       " u'Introduction to Machine Learning',\n",
       " u'Pattern Recognition and Machine Learning',\n",
       " u'Machine Learning and Its Applications']"
      ]
     },
     "execution_count": 94,
     "metadata": {},
     "output_type": "execute_result"
    }
   ],
   "source": [
    "response = requests.get(\"https://www.googleapis.com/books/v1/volumes\", params={\"q\":\"machine learning\"})\n",
    "raw_data = response.json()\n",
    "titles = [item['volumeInfo']['title'] for item in raw_data['items']]\n",
    "titles"
   ]
  },
  {
   "cell_type": "code",
   "execution_count": 98,
   "metadata": {
    "collapsed": false
   },
   "outputs": [
    {
     "data": {
      "text/plain": [
       "[{'image': 'http://cdn.blocket.com/static/2/lithumbs/98/9864322297.jpg',\n",
       "  'name': 'Macbook laddare 60w',\n",
       "  'price': 250},\n",
       " {'image': 'http://cdn.blocket.com/static/2/lithumbs/43/4338840758.jpg',\n",
       "  'name': u'Apple iPhone 5S 16GB - Ol\\xe5st - 12 m\\xe5n garanti',\n",
       "  'price': 3999},\n",
       " {'image': 'http://cdn.blocket.com/static/0/lithumbs/98/9838946223.jpg',\n",
       "  'name': u'Ol\\xe5st iPhone 5 64 GB med n\\xe4stan nytt batteri',\n",
       "  'price': 3000},\n",
       " {'image': 'http://cdn.blocket.com/static/1/lithumbs/79/7906971367.jpg',\n",
       "  'name': u'Apple iPhone 5C 16GB - Ol\\xe5st - 12 m\\xe5n garanti',\n",
       "  'price': 3099},\n",
       " {'image': 'http://cdn.blocket.com/static/0/lithumbs/79/7926951568.jpg',\n",
       "  'name': u'HP Z620 Workstation - 1 \\xe5rs garanti',\n",
       "  'price': 12494},\n",
       " {'image': 'http://cdn.blocket.com/static/0/lithumbs/97/9798755036.jpg',\n",
       "  'name': 'HP ProBook 6450b - Andrasortering',\n",
       "  'price': 1699},\n",
       " {'image': 'http://cdn.blocket.com/static/1/lithumbs/98/9898462036.jpg',\n",
       "  'name': 'Macbook pro 13 retina, 256 gb ssd',\n",
       "  'price': 12000}]"
      ]
     },
     "execution_count": 98,
     "metadata": {},
     "output_type": "execute_result"
    }
   ],
   "source": [
    "import lxml.html\n",
    "\n",
    "page = lxml.html.parse(\"http://www.blocket.se/stockholm?q=apple\")\n",
    "# ^ This is probably illegal. Blocket, please don't sue me!\n",
    "items_data = []\n",
    "for el in page.getroot().find_class(\"item_row\"):\n",
    "    links = el.find_class(\"item_link\")\n",
    "    images = el.find_class(\"item_image\")\n",
    "    prices = el.find_class(\"list_price\")\n",
    "    if links and images and prices and prices[0].text:\n",
    "        items_data.append({\"name\": links[0].text,\n",
    "                           \"image\": images[0].attrib['src'],\n",
    "                           \"price\": int(prices[0].text.split(\":\")[0].replace(\" \", \"\"))})\n",
    "items_data"
   ]
  },
  {
   "cell_type": "markdown",
   "metadata": {},
   "source": [
    "# Reading local data"
   ]
  },
  {
   "cell_type": "code",
   "execution_count": null,
   "metadata": {
    "collapsed": false
   },
   "outputs": [],
   "source": [
    "import pandas\n",
    "\n",
    "df = pandas.read_csv('sample.csv')"
   ]
  },
  {
   "cell_type": "code",
   "execution_count": null,
   "metadata": {
    "collapsed": false
   },
   "outputs": [],
   "source": [
    "# Display the DataFrame\n",
    "df"
   ]
  },
  {
   "cell_type": "code",
   "execution_count": null,
   "metadata": {
    "collapsed": false
   },
   "outputs": [],
   "source": [
    "# DataFrame's columns\n",
    "df.columns"
   ]
  },
  {
   "cell_type": "code",
   "execution_count": null,
   "metadata": {
    "collapsed": false
   },
   "outputs": [],
   "source": [
    "# Values of a given column\n",
    "df.Model"
   ]
  },
  {
   "cell_type": "markdown",
   "metadata": {},
   "source": [
    "# Analyzing the dataframe"
   ]
  },
  {
   "cell_type": "code",
   "execution_count": null,
   "metadata": {
    "collapsed": false
   },
   "outputs": [],
   "source": [
    "# Any missing values?\n",
    "df['Price']"
   ]
  },
  {
   "cell_type": "code",
   "execution_count": null,
   "metadata": {
    "collapsed": false
   },
   "outputs": [],
   "source": [
    "df['Description']"
   ]
  },
  {
   "cell_type": "code",
   "execution_count": null,
   "metadata": {
    "collapsed": false
   },
   "outputs": [],
   "source": [
    "# Fill missing prices by a linear interpolation\n",
    "df['Description'] = df['Description'].fillna(\"No description is available.\")\n",
    "df['Price'] = df['Price'].interpolate()\n",
    "\n",
    "df"
   ]
  },
  {
   "cell_type": "markdown",
   "metadata": {},
   "source": [
    "# Exploring data"
   ]
  },
  {
   "cell_type": "code",
   "execution_count": null,
   "metadata": {
    "collapsed": false
   },
   "outputs": [],
   "source": [
    "import matplotlib.pyplot as plt\n",
    "\n",
    "df = pandas.read_csv('sample2.csv')\n",
    "\n",
    "df"
   ]
  },
  {
   "cell_type": "code",
   "execution_count": null,
   "metadata": {
    "collapsed": false
   },
   "outputs": [],
   "source": [
    "# This table has 3 columns: Office, Year, Sales\n",
    "print df.columns\n",
    "\n",
    "# It's really easy to query data with Pandas:\n",
    "print df[(df['Office'] == 'Stockholm') & (df['Sales'] > 260)]\n",
    "\n",
    "# It's also easy to do aggregations...\n",
    "aggregated_sales = df.groupby('Year').sum()\n",
    "print aggregated_sales"
   ]
  },
  {
   "cell_type": "code",
   "execution_count": null,
   "metadata": {
    "collapsed": false
   },
   "outputs": [],
   "source": [
    "# ... and generate plots\n",
    "%matplotlib inline\n",
    "aggregated_sales.plot(kind='bar')"
   ]
  },
  {
   "cell_type": "markdown",
   "metadata": {},
   "source": [
    "# Machine learning"
   ]
  },
  {
   "cell_type": "markdown",
   "metadata": {},
   "source": [
    "## Feature extraction"
   ]
  },
  {
   "cell_type": "code",
   "execution_count": null,
   "metadata": {
    "collapsed": false
   },
   "outputs": [],
   "source": [
    "from sklearn import feature_extraction"
   ]
  },
  {
   "cell_type": "markdown",
   "metadata": {},
   "source": [
    "### Extracting features from text"
   ]
  },
  {
   "cell_type": "code",
   "execution_count": null,
   "metadata": {
    "collapsed": false
   },
   "outputs": [],
   "source": [
    "corpus = ['All the cats really are great.',\n",
    "          'I like the cats but I still prefer the dogs.',\n",
    "          'Dogs are the best.',\n",
    "          'I like all the trains',\n",
    "          ]\n",
    "\n",
    "tfidf = feature_extraction.text.TfidfVectorizer()\n",
    "\n",
    "print tfidf.fit_transform(corpus).toarray()\n",
    "print tfidf.get_feature_names()"
   ]
  },
  {
   "cell_type": "markdown",
   "metadata": {},
   "source": [
    "### Dict vectorizer"
   ]
  },
  {
   "cell_type": "code",
   "execution_count": null,
   "metadata": {
    "collapsed": false
   },
   "outputs": [],
   "source": [
    "import json\n",
    "\n",
    "\n",
    "data = [json.loads(\"\"\"{\"weight\": 194.0, \"sex\": \"female\", \"student\": true}\"\"\"),\n",
    "        {\"weight\": 60., \"sex\": 'female', \"student\": True},\n",
    "        {\"weight\": 80.1, \"sex\": 'male', \"student\": False},\n",
    "        {\"weight\": 65.3, \"sex\": 'male', \"student\": True},\n",
    "        {\"weight\": 58.5, \"sex\": 'female', \"student\": False}]\n",
    "\n",
    "vectorizer = feature_extraction.DictVectorizer(sparse=False)\n",
    "\n",
    "vectors = vectorizer.fit_transform(data)\n",
    "print vectors\n",
    "print vectorizer.get_feature_names()"
   ]
  },
  {
   "cell_type": "code",
   "execution_count": null,
   "metadata": {
    "collapsed": false
   },
   "outputs": [],
   "source": [
    "class A:\n",
    "    def __init__(self, x):\n",
    "        self.x = x\n",
    "        self.blabla = 'test'\n",
    "        \n",
    "a = A(20)\n",
    "a.__dict__"
   ]
  },
  {
   "cell_type": "markdown",
   "metadata": {},
   "source": [
    "### Pre-processing"
   ]
  },
  {
   "cell_type": "markdown",
   "metadata": {},
   "source": [
    "##### Scaling"
   ]
  },
  {
   "cell_type": "code",
   "execution_count": null,
   "metadata": {
    "collapsed": false
   },
   "outputs": [],
   "source": [
    "from sklearn import preprocessing\n",
    "\n",
    "data = [[10., 2345., 0., 2.],\n",
    "        [3., -3490., 0.1, 1.99],\n",
    "        [13., 3903., -0.2, 2.11]]\n",
    "\n",
    "print preprocessing.normalize(data)"
   ]
  },
  {
   "cell_type": "markdown",
   "metadata": {},
   "source": [
    "##### Dimensionality reduction"
   ]
  },
  {
   "cell_type": "code",
   "execution_count": null,
   "metadata": {
    "collapsed": false
   },
   "outputs": [],
   "source": [
    "from sklearn import decomposition\n",
    "\n",
    "data = [[0.3, 0.2, 0.4,  0.32],\n",
    "        [0.3, 0.5, 1.0, 0.19],\n",
    "        [0.3, -0.4, -0.8, 0.22]]\n",
    "\n",
    "pca = decomposition.PCA()\n",
    "print pca.fit_transform(data)\n",
    "print pca.explained_variance_ratio_"
   ]
  },
  {
   "cell_type": "markdown",
   "metadata": {},
   "source": [
    "# Machine learning models"
   ]
  },
  {
   "cell_type": "markdown",
   "metadata": {},
   "source": [
    "## Classification (SVM)"
   ]
  },
  {
   "cell_type": "code",
   "execution_count": null,
   "metadata": {
    "collapsed": true
   },
   "outputs": [],
   "source": [
    "from sklearn import datasets\n",
    "from sklearn import svm"
   ]
  },
  {
   "cell_type": "code",
   "execution_count": null,
   "metadata": {
    "collapsed": false
   },
   "outputs": [],
   "source": [
    "iris = datasets.load_iris()\n",
    "\n",
    "X = iris.data[:, :2]\n",
    "y = iris.target\n",
    "\n",
    "# Training the model\n",
    "clf = svm.SVC(kernel='rbf')\n",
    "clf.fit(X, y)\n",
    "\n",
    "# Doing predictions\n",
    "new_data = [[4.85, 3.1], [5.61, 3.02]]\n",
    "print clf.predict(new_data)"
   ]
  },
  {
   "cell_type": "markdown",
   "metadata": {},
   "source": [
    "## Regression (linear regression)"
   ]
  },
  {
   "cell_type": "code",
   "execution_count": null,
   "metadata": {
    "collapsed": false
   },
   "outputs": [],
   "source": [
    "import numpy as np\n",
    "from sklearn import linear_model\n",
    "import matplotlib.pyplot as plt\n",
    "\n",
    "def f(x):\n",
    "    return x + np.random.random() * 3.\n",
    "\n",
    "X = np.arange(0, 5, 0.5)\n",
    "X = X.reshape((len(X), 1))\n",
    "y = map(f, X)\n",
    "\n",
    "clf = linear_model.LinearRegression()\n",
    "clf.fit(X, y)"
   ]
  },
  {
   "cell_type": "code",
   "execution_count": null,
   "metadata": {
    "collapsed": false
   },
   "outputs": [],
   "source": [
    "new_X = np.arange(0.2, 5.2, 0.3)\n",
    "new_X = new_X.reshape((len(new_X), 1))\n",
    "new_y = clf.predict(new_X)\n",
    "\n",
    "plt.scatter(X, y, color='g', label='Training data')\n",
    "\n",
    "plt.plot(new_X, new_y, '.-', label='Predicted')\n",
    "plt.legend()"
   ]
  },
  {
   "cell_type": "markdown",
   "metadata": {},
   "source": [
    "## Clustering (DBScan)"
   ]
  },
  {
   "cell_type": "code",
   "execution_count": null,
   "metadata": {
    "collapsed": false
   },
   "outputs": [],
   "source": [
    "from sklearn.cluster import DBSCAN\n",
    "from sklearn.datasets.samples_generator import make_blobs\n",
    "from sklearn.preprocessing import StandardScaler\n",
    "\n",
    "# Generate sample data\n",
    "centers = [[1, 1], [-1, -1], [1, -1]]\n",
    "X, labels_true = make_blobs(n_samples=200, centers=centers, cluster_std=0.4,\n",
    "                            random_state=0)\n",
    "X = StandardScaler().fit_transform(X)"
   ]
  },
  {
   "cell_type": "code",
   "execution_count": null,
   "metadata": {
    "collapsed": false
   },
   "outputs": [],
   "source": [
    "# Compute DBSCAN\n",
    "db = DBSCAN(eps=0.3, min_samples=10).fit(X)\n",
    "db.labels_"
   ]
  },
  {
   "cell_type": "code",
   "execution_count": null,
   "metadata": {
    "collapsed": false
   },
   "outputs": [],
   "source": [
    "import matplotlib.pyplot as plt\n",
    "plt.scatter(X[:, 0], X[:, 1], c=db.labels_)"
   ]
  },
  {
   "cell_type": "markdown",
   "metadata": {},
   "source": [
    "## Cross-validation"
   ]
  },
  {
   "cell_type": "code",
   "execution_count": null,
   "metadata": {
    "collapsed": false
   },
   "outputs": [],
   "source": [
    "from sklearn import svm, cross_validation, datasets\n",
    "\n",
    "iris = datasets.load_iris()\n",
    "X, y = iris.data, iris.target\n",
    "\n",
    "model = svm.SVC()\n",
    "print cross_validation.cross_val_score(model, X, y, scoring='precision')\n",
    "print cross_validation.cross_val_score(model, X, y, scoring='mean_squared_error')"
   ]
  },
  {
   "cell_type": "markdown",
   "metadata": {},
   "source": [
    "## Thanks for following! I hope you learned a thing or two :-)\n",
    "\n",
    "Ping me with suggestions and questions on @halflings and/or kachkach.com"
   ]
  }
 ],
 "metadata": {
  "kernelspec": {
   "display_name": "Python 2",
   "language": "python",
   "name": "python2"
  },
  "language_info": {
   "codemirror_mode": {
    "name": "ipython",
    "version": 2
   },
   "file_extension": ".py",
   "mimetype": "text/x-python",
   "name": "python",
   "nbconvert_exporter": "python",
   "pygments_lexer": "ipython2",
   "version": "2.7.6"
  }
 },
 "nbformat": 4,
 "nbformat_minor": 0
}
